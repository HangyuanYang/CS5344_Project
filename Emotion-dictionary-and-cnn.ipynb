{
 "cells": [
  {
   "cell_type": "markdown",
   "id": "71c65411",
   "metadata": {},
   "source": [
    "# Emotion Dictionary"
   ]
  },
  {
   "cell_type": "code",
   "execution_count": 33,
   "id": "e838fb2c",
   "metadata": {},
   "outputs": [
    {
     "name": "stderr",
     "output_type": "stream",
     "text": [
      "[nltk_data] Downloading package sentiwordnet to\n",
      "[nltk_data]     C:\\Users\\alienware\\AppData\\Roaming\\nltk_data...\n",
      "[nltk_data]   Package sentiwordnet is already up-to-date!\n",
      "[nltk_data] Downloading package wordnet to\n",
      "[nltk_data]     C:\\Users\\alienware\\AppData\\Roaming\\nltk_data...\n",
      "[nltk_data]   Package wordnet is already up-to-date!\n",
      "[nltk_data] Downloading package punkt to\n",
      "[nltk_data]     C:\\Users\\alienware\\AppData\\Roaming\\nltk_data...\n",
      "[nltk_data]   Package punkt is already up-to-date!\n"
     ]
    }
   ],
   "source": [
    "from src.utils import *\n",
    "import numpy as np\n",
    "import pandas as pd \n",
    "import re\n",
    "import nltk\n",
    "nltk.download('sentiwordnet')\n",
    "nltk.download('wordnet')\n",
    "nltk.download('punkt')\n",
    "from nltk.corpus import wordnet as wn\n",
    "from nltk.corpus import sentiwordnet as swn\n",
    "import nltk\n",
    "from nltk.corpus import wordnet\n",
    "from nltk.corpus import stopwords\n",
    "from nltk.stem.wordnet import WordNetLemmatizer\n",
    "from sklearn.model_selection import train_test_split\n",
    "import csv, collections\n",
    "import numpy as np\n"
   ]
  },
  {
   "cell_type": "code",
   "execution_count": 13,
   "id": "bafb72da",
   "metadata": {},
   "outputs": [
    {
     "name": "stderr",
     "output_type": "stream",
     "text": [
      "<timed exec>:4: SettingWithCopyWarning: \n",
      "A value is trying to be set on a copy of a slice from a DataFrame\n",
      "\n",
      "See the caveats in the documentation: https://pandas.pydata.org/pandas-docs/stable/user_guide/indexing.html#returning-a-view-versus-a-copy\n"
     ]
    },
    {
     "name": "stdout",
     "output_type": "stream",
     "text": [
      "CPU times: total: 6min 27s\n",
      "Wall time: 6min 31s\n"
     ]
    }
   ],
   "source": [
    "%%time\n",
    "df = pd.read_csv('./data/training.1600000.processed.noemoticon.csv', encoding='latin', header=None, names=['label', 'ids', 'date', 'flag', 'user', 'text'])\n",
    "df.head()\n",
    "df.drop([\"ids\",\"date\",\"flag\",\"user\"], axis=1, inplace=True)\n",
    "df['label'][df['label'] == 4] = 1\n",
    "df = preprocess(df)"
   ]
  },
  {
   "cell_type": "code",
   "execution_count": 14,
   "id": "e1ba98e1",
   "metadata": {},
   "outputs": [],
   "source": [
    "X=df.text\n",
    "y=df.label\n",
    "X_train, X_test, y_train, y_test = train_test_split(X, y, random_state = 42, test_size = 0.2, stratify = y)"
   ]
  },
  {
   "cell_type": "code",
   "execution_count": 15,
   "id": "1d7a8ba4",
   "metadata": {},
   "outputs": [
    {
     "name": "stdout",
     "output_type": "stream",
     "text": [
      "291262     ye black red fav color realli want color def l...\n",
      "1359075    qu buy open hous weekend pm best valu one bedr...\n",
      "1009651                   fran greet air okay hahahaha thank\n",
      "1538714    omg that awesom goood luck u meet caaut calgar...\n",
      "1046690                                 hahahhaha good point\n",
      "                                 ...                        \n",
      "203556     beauti shit weather happi see mod practic toda...\n",
      "163122        fiftythousand follow hugh lauri needl haystack\n",
      "1176116    follow also hope atleast get also wish get wel...\n",
      "477177     feel like decent swell sinc last fall hope wav...\n",
      "897066                                      relaxin busi day\n",
      "Name: text, Length: 320000, dtype: object\n",
      "291262     0\n",
      "1359075    1\n",
      "1009651    1\n",
      "1538714    1\n",
      "1046690    1\n",
      "          ..\n",
      "203556     0\n",
      "163122     0\n",
      "1176116    1\n",
      "477177     0\n",
      "897066     1\n",
      "Name: label, Length: 320000, dtype: int64\n"
     ]
    }
   ],
   "source": [
    "print(X_test)\n",
    "print(y_test)"
   ]
  },
  {
   "cell_type": "code",
   "execution_count": 16,
   "id": "18cf906a",
   "metadata": {},
   "outputs": [],
   "source": [
    "import nltk\n",
    "import ssl\n",
    "from nltk.tokenize import word_tokenize\n",
    "from nltk.corpus import wordnet as wn\n",
    "from nltk.corpus import sentiwordnet as swn\n",
    "from nltk.stem import WordNetLemmatizer\n",
    "from nltk.corpus import stopwords\n",
    "pos=neg=obj=count=0\n",
    "\n",
    "postagging = []\n",
    "\n",
    "for review in X_test:\n",
    "    list = word_tokenize(review)\n",
    "    postagging.append(nltk.pos_tag(list))\n",
    "\n",
    "\n",
    "\n",
    "def penn_to_wn(tag):\n",
    "    if tag.startswith('J'):\n",
    "        return wn.ADJ\n",
    "    elif tag.startswith('N'):\n",
    "        return wn.NOUN\n",
    "    elif tag.startswith('R'):\n",
    "        return wn.ADV\n",
    "    elif tag.startswith('V'):\n",
    "        return wn.VERB\n",
    "    return None\n",
    "\n",
    "\n",
    "\n",
    "def get_sentiment(word,tag):\n",
    "    wn_tag = penn_to_wn(tag)\n",
    "    \n",
    "    if wn_tag not in (wn.NOUN, wn.ADJ, wn.ADV):\n",
    "        return []\n",
    "\n",
    "\n",
    "    lemma = lemmatizer.lemmatize(word, pos=wn_tag)\n",
    "    if not lemma:\n",
    "        return []\n",
    "\n",
    "    \n",
    "    synsets = wn.synsets(word, pos=wn_tag)\n",
    "    if not synsets:\n",
    "        return []\n",
    "\n",
    "   \n",
    "    synset = synsets[0]\n",
    "    swn_synset = swn.senti_synset(synset.name())\n",
    "\n",
    "    return [synset.name(), swn_synset.pos_score(),swn_synset.neg_score(),swn_synset.obj_score()]\n",
    "\n",
    "    pos=neg=obj=count=0\n",
    "    \n",
    "    ###################################################################################\n",
    "senti_score = []\n",
    "\n",
    "for pos_val in postagging:\n",
    "    senti_val = [get_sentiment(x,y) for (x,y) in pos_val]\n",
    "    for score in senti_val:\n",
    "        try:\n",
    "            pos = pos + score[1]  #positive score is stored at 2nd position\n",
    "            neg = neg + score[2]  #negative score is stored at 3rd position\n",
    "        except:\n",
    "            continue\n",
    "    senti_score.append(pos - neg)\n",
    "    pos=neg=0    \n",
    "    "
   ]
  },
  {
   "cell_type": "code",
   "execution_count": 18,
   "id": "68203f92",
   "metadata": {},
   "outputs": [
    {
     "name": "stdout",
     "output_type": "stream",
     "text": [
      "              precision    recall  f1-score   support\n",
      "\n",
      "           0       0.57      0.51      0.54    160000\n",
      "           1       0.55      0.61      0.58    160000\n",
      "\n",
      "    accuracy                           0.56    320000\n",
      "   macro avg       0.56      0.56      0.56    320000\n",
      "weighted avg       0.56      0.56      0.56    320000\n",
      "\n",
      "[[81458 78542]\n",
      " [62219 97781]]\n"
     ]
    },
    {
     "data": {
      "text/plain": [
       "Text(0.5, 1.0, 'Confusion Matrix')"
      ]
     },
     "execution_count": 18,
     "metadata": {},
     "output_type": "execute_result"
    },
    {
     "data": {
      "image/png": "[encoded data removed]",
      "text/plain": [
       "<Figure size 640x480 with 2 Axes>"
      ]
     },
     "metadata": {},
     "output_type": "display_data"
    }
   ],
   "source": [
    "import random\n",
    "y_predict=[]\n",
    "for i in range(len(senti_score)):\n",
    "    if senti_score[i]>0:\n",
    "        y_predict.append(1)\n",
    "    elif senti_score[i]==0:\n",
    "        c=random.choice([0,1])\n",
    "        y_predict.append(c)\n",
    "    else:\n",
    "        y_predict.append(0)\n",
    "print(classification_report(y_test, y_predict))\n",
    "cf_matrix=confusion_matrix(y_test, y_predict)\n",
    "print(cf_matrix)\n",
    " \n",
    "categories  = ['Negative','Positive']\n",
    "group_names = ['True Neg','False Pos', 'False Neg','True Pos']\n",
    "group_percentages = ['{0:.2%}'.format(value) for value in cf_matrix.flatten() / np.sum(cf_matrix)]\n",
    "\n",
    "labels = [f'{v1}\\n{v2}' for v1, v2 in zip(group_names,group_percentages)]\n",
    "labels = np.asarray(labels).reshape(2,2)\n",
    "\n",
    "sns.heatmap(cf_matrix, annot = labels, cmap = 'Blues',fmt = '',\n",
    "                xticklabels = categories, yticklabels = categories)\n",
    "\n",
    "plt.xlabel(\"Predicted values\", fontdict = {'size':15}, labelpad = 10)\n",
    "plt.ylabel(\"Actual values\"   , fontdict = {'size':15}, labelpad = 10)\n",
    "plt.title (\"Confusion Matrix\", fontdict = {'size':20}, pad = 20)\n"
   ]
  },
  {
   "cell_type": "code",
   "execution_count": 243,
   "id": "d521dab6",
   "metadata": {},
   "outputs": [],
   "source": [
    "def model_Evaluate(model):\n",
    "   \n",
    "    acc_train=model.score(X_train, y_train)\n",
    "    #accuracy of model on test data\n",
    "    acc_test=model.score(X_test, y_test)\n",
    "    \n",
    "    print('Accuracy of model on training data : {}'.format(acc_train*100))\n",
    "    print('Accuracy of model on testing data : {} \\n'.format(acc_test*100))\n",
    "\n",
    "   \n",
    "    y_pred = model.predict(X_test)\n",
    "\n",
    "  \n",
    "    print(classification_report(y_test, y_pred))\n",
    "    \n",
    "   \n",
    "    cf_matrix = confusion_matrix(y_test, y_pred)\n",
    "\n",
    "    categories  = ['Negative','Positive']\n",
    "    group_names = ['True Neg','False Pos', 'False Neg','True Pos']\n",
    "    group_percentages = ['{0:.2%}'.format(value) for value in cf_matrix.flatten() / np.sum(cf_matrix)]\n",
    "\n",
    "    labels = [f'{v1}\\n{v2}' for v1, v2 in zip(group_names,group_percentages)]\n",
    "    labels = np.asarray(labels).reshape(2,2)\n",
    "\n",
    "    sns.heatmap(cf_matrix, annot = labels, cmap = 'Reds',fmt = '',\n",
    "                xticklabels = categories, yticklabels = categories)\n",
    "\n",
    "    plt.xlabel(\"Predicted values\", fontdict = {'size':14}, labelpad = 10)\n",
    "    plt.ylabel(\"Actual values\"   , fontdict = {'size':14}, labelpad = 10)\n",
    "    plt.title (\"Confusion Matrix\", fontdict = {'size':18}, pad = 20)"
   ]
  },
  {
   "cell_type": "code",
   "execution_count": 21,
   "id": "d734f663",
   "metadata": {},
   "outputs": [],
   "source": [
    "\n",
    "\n",
    "def read_glove_vecs(glove_file):\n",
    "    with open(glove_file, 'r', encoding=\"utf8\") as f:\n",
    "        words = set()\n",
    "        word_to_vec_map = {}\n",
    "        for line in f:\n",
    "            line = line.strip().split()\n",
    "            curr_word = line[0]\n",
    "            words.add(curr_word)\n",
    "            word_to_vec_map[curr_word] = np.array(line[1:], dtype=np.float64)\n",
    "        \n",
    "        i = 1\n",
    "        words_to_index = {}\n",
    "        index_to_words = {}\n",
    "        for w in sorted(words):\n",
    "            words_to_index[w] = i\n",
    "            index_to_words[i] = w\n",
    "            i = i + 1\n",
    "    return words_to_index, index_to_words, word_to_vec_map"
   ]
  },
  {
   "cell_type": "code",
   "execution_count": 22,
   "id": "29f48a3b",
   "metadata": {},
   "outputs": [],
   "source": [
    "word_to_index, index_to_word, word_to_vec_map = read_glove_vecs('./glove/glove.6B.50d.txt')\n"
   ]
  },
  {
   "cell_type": "code",
   "execution_count": 23,
   "id": "f9502df7",
   "metadata": {},
   "outputs": [],
   "source": [
    "import tensorflow\n",
    "from tensorflow.keras.preprocessing.text import Tokenizer\n",
    "from tensorflow.keras.preprocessing.sequence import pad_sequences\n",
    "from tensorflow.keras.models import Sequential, load_model\n",
    "from tensorflow.keras.layers import Dense,Flatten,Embedding,Activation, Dropout\n",
    "from tensorflow.keras.layers import Conv1D, MaxPooling1D, GlobalMaxPooling1D, LSTM\n",
    "from tensorflow.keras.optimizers import Adam\n",
    "from tensorflow.keras.callbacks import Callback, ModelCheckpoint\n",
    "df2=df.sample(1600000)\n",
    "text = df2['text'].to_list()\n",
    "\n",
    "y = df2['label'].to_list()"
   ]
  },
  {
   "cell_type": "code",
   "execution_count": 24,
   "id": "f18d8fb6",
   "metadata": {},
   "outputs": [
    {
     "name": "stdout",
     "output_type": "stream",
     "text": [
      "vocabulary_size :  213072\n",
      "[29, 28, 3447, 10173, 123, 262]\n"
     ]
    }
   ],
   "source": [
    "token = Tokenizer()\n",
    "token.fit_on_texts(text)\n",
    "\n",
    "vocab_size  = len(token.word_index) + 1\n",
    "print('vocabulary_size : ', vocab_size)\n",
    "\n",
    "encoded_text = token.texts_to_sequences(text)\n",
    "print(encoded_text[31])"
   ]
  },
  {
   "cell_type": "code",
   "execution_count": 25,
   "id": "7d15fef1",
   "metadata": {},
   "outputs": [
    {
     "data": {
      "text/plain": [
       "(1600000, 120)"
      ]
     },
     "execution_count": 25,
     "metadata": {},
     "output_type": "execute_result"
    }
   ],
   "source": [
    "max_length = 120\n",
    "X = pad_sequences(encoded_text, maxlen=max_length, padding='post')\n",
    "X.shape"
   ]
  },
  {
   "cell_type": "code",
   "execution_count": 26,
   "id": "dfae7d28",
   "metadata": {},
   "outputs": [],
   "source": [
    "X = np.array(X)\n",
    "y = np.array(y)\n",
    "\n",
    "X_train, X_test, y_train, y_test = train_test_split(X, y, random_state = 42, test_size = 0.2, stratify = y)\n"
   ]
  },
  {
   "cell_type": "code",
   "execution_count": 27,
   "id": "d4621d3f",
   "metadata": {},
   "outputs": [
    {
     "name": "stdout",
     "output_type": "stream",
     "text": [
      "Glove Vector lenght :  1193514\n",
      "CPU times: total: 2min 30s\n",
      "Wall time: 2min 53s\n"
     ]
    }
   ],
   "source": [
    "%%time\n",
    "glove_vectors = dict()\n",
    "\n",
    "file = open('./glove/glove.twitter.27B.200d.txt', encoding='utf-8')\n",
    "\n",
    "for line in file:\n",
    "    values = line.split()\n",
    "    word = values[0]\n",
    "    vectors = np.asarray(values[1: ])\n",
    "    glove_vectors[word] = vectors\n",
    "    \n",
    "file.close()\n",
    "\n",
    "print('Glove Vector lenght : ', len(glove_vectors))\n",
    "\n",
    "word_vector_matrix = np.zeros((vocab_size, 200))\n",
    "\n",
    "for word, index in token.word_index.items():\n",
    "    vector = glove_vectors.get(word)\n",
    "    if vector is not None:\n",
    "        word_vector_matrix[index] = vector"
   ]
  },
  {
   "cell_type": "code",
   "execution_count": 28,
   "id": "68003c3a",
   "metadata": {
    "scrolled": true
   },
   "outputs": [
    {
     "name": "stdout",
     "output_type": "stream",
     "text": [
      "Model: \"sequential\"\n",
      "_________________________________________________________________\n",
      " Layer (type)                Output Shape              Param #   \n",
      "=================================================================\n",
      " embedding (Embedding)       (None, 120, 200)          42614400  \n",
      "                                                                 \n",
      " conv1d (Conv1D)             (None, 113, 128)          204928    \n",
      "                                                                 \n",
      " max_pooling1d (MaxPooling1D  (None, 56, 128)          0         \n",
      " )                                                               \n",
      "                                                                 \n",
      " dropout (Dropout)           (None, 56, 128)           0         \n",
      "                                                                 \n",
      " dense (Dense)               (None, 56, 64)            8256      \n",
      "                                                                 \n",
      " dropout_1 (Dropout)         (None, 56, 64)            0         \n",
      "                                                                 \n",
      " dense_1 (Dense)             (None, 56, 32)            2080      \n",
      "                                                                 \n",
      " dropout_2 (Dropout)         (None, 56, 32)            0         \n",
      "                                                                 \n",
      " dense_2 (Dense)             (None, 56, 16)            528       \n",
      "                                                                 \n",
      " dropout_3 (Dropout)         (None, 56, 16)            0         \n",
      "                                                                 \n",
      " global_max_pooling1d (Globa  (None, 16)               0         \n",
      " lMaxPooling1D)                                                  \n",
      "                                                                 \n",
      " dense_3 (Dense)             (None, 1)                 17        \n",
      "                                                                 \n",
      "=================================================================\n",
      "Total params: 42,830,209\n",
      "Trainable params: 215,809\n",
      "Non-trainable params: 42,614,400\n",
      "_________________________________________________________________\n",
      "Epoch 1/5\n",
      "40000/40000 [==============================] - 1755s 44ms/step - loss: 0.5390 - accuracy: 0.7300 - val_loss: 0.5196 - val_accuracy: 0.7597\n",
      "Epoch 2/5\n",
      "40000/40000 [==============================] - 1618s 40ms/step - loss: 0.5073 - accuracy: 0.7544 - val_loss: 0.5115 - val_accuracy: 0.7654\n",
      "Epoch 3/5\n",
      "40000/40000 [==============================] - 1540s 38ms/step - loss: 0.4968 - accuracy: 0.7611 - val_loss: 0.5022 - val_accuracy: 0.7688\n",
      "Epoch 4/5\n",
      "40000/40000 [==============================] - 1802s 45ms/step - loss: 0.4890 - accuracy: 0.7662 - val_loss: 0.5031 - val_accuracy: 0.7688\n",
      "Epoch 5/5\n",
      "40000/40000 [==============================] - 1715s 43ms/step - loss: 0.4829 - accuracy: 0.7700 - val_loss: 0.4950 - val_accuracy: 0.7703\n"
     ]
    }
   ],
   "source": [
    "VEC_SIZE = 200\n",
    "EPOCHS = 5\n",
    "\n",
    "\n",
    "model = Sequential()\n",
    "model.add(Embedding(vocab_size, VEC_SIZE, input_length=max_length, weights = [word_vector_matrix], trainable = False))\n",
    "\n",
    "model.add(Conv1D(128, 8, activation = 'relu'))\n",
    "\n",
    "model.add(MaxPooling1D(2))\n",
    "model.add(Dropout(0.3))\n",
    "\n",
    "model.add(Dense(64, activation='relu'))\n",
    "model.add(Dropout(0.3))\n",
    "\n",
    "model.add(Dense(32, activation='relu'))\n",
    "model.add(Dropout(0.3))\n",
    "\n",
    "model.add(Dense(16, activation='relu'))\n",
    "model.add(Dropout(0.3))\n",
    "\n",
    "model.add(GlobalMaxPooling1D())\n",
    "\n",
    "model.add(Dense(1, activation='sigmoid'))\n",
    "\n",
    "model.compile(optimizer=Adam(learning_rate = 0.0001), loss = 'binary_crossentropy', metrics = ['accuracy'])\n",
    "model.summary()\n",
    "history = model.fit(X_train,\n",
    "                    y_train,\n",
    "                    epochs = EPOCHS,\n",
    "                    validation_data = (X_test, y_test))"
   ]
  },
  {
   "cell_type": "code",
   "execution_count": 30,
   "id": "c7b0deba",
   "metadata": {},
   "outputs": [
    {
     "name": "stdout",
     "output_type": "stream",
     "text": [
      "[0 1 1 ... 1 0 1]\n"
     ]
    }
   ],
   "source": [
    "print(y_test)"
   ]
  },
  {
   "cell_type": "code",
   "execution_count": 35,
   "id": "b6e59cdf",
   "metadata": {},
   "outputs": [],
   "source": [
    "def model_evaluation(model, X_test, y_test):\n",
    "    y_pred = model.predict(X_test)\n",
    "    newy=[]\n",
    "    for y in y_pred:\n",
    "        if y>=0.5:\n",
    "            newy.append(1)\n",
    "        else:\n",
    "            newy.append(0)\n",
    "    y_pred=newy\n",
    "  \n",
    "    print(classification_report(y_test, y_pred))\n",
    "    cf_matrix = confusion_matrix(y_test, y_pred)\n",
    "    categories  = ['Negative','Positive']\n",
    "    group_names = ['True Neg','False Pos', 'False Neg','True Pos']\n",
    "    group_percentages = ['{0:.2%}'.format(value) for value in cf_matrix.flatten() / np.sum(cf_matrix)]\n",
    "\n",
    "    labels = [f'{v1}\\n{v2}' for v1, v2 in zip(group_names,group_percentages)]\n",
    "    labels = np.asarray(labels).reshape(2,2)\n",
    "\n",
    "    sns.heatmap(cf_matrix, annot = labels, cmap = 'Blues',fmt = '',xticklabels = categories, yticklabels = categories)\n",
    "\n",
    "    plt.xlabel(\"Predicted values\", fontdict = {'size':15}, labelpad = 10)\n",
    "    plt.ylabel(\"Actual values\"   , fontdict = {'size':15}, labelpad = 10)\n",
    "    plt.title (\"Confusion Matrix\", fontdict = {'size':20}, pad = 20)"
   ]
  },
  {
   "cell_type": "code",
   "execution_count": null,
   "id": "0ea29465",
   "metadata": {},
   "outputs": [
    {
     "name": "stdout",
     "output_type": "stream",
     "text": [
      " 5921/10000 [================>.............] - ETA: 58s"
     ]
    }
   ],
   "source": [
    "model_evaluation(model,X_test,y_test)"
   ]
  },
  {
   "cell_type": "code",
   "execution_count": 19,
   "id": "0a78c6c3",
   "metadata": {},
   "outputs": [],
   "source": [
    "X=df.text\n",
    "y=df.label\n",
    "X_train, X_test, y_train, y_test = train_test_split(X, y, random_state = 42, test_size = 0.2, stratify = y)\n"
   ]
  },
  {
   "cell_type": "code",
   "execution_count": 20,
   "id": "1d225c9b",
   "metadata": {},
   "outputs": [
    {
     "name": "stdout",
     "output_type": "stream",
     "text": [
      "              precision    recall  f1-score   support\n",
      "\n",
      "           0       0.66      0.50      0.57    160000\n",
      "           1       0.60      0.74      0.66    160000\n",
      "\n",
      "    accuracy                           0.62    320000\n",
      "   macro avg       0.63      0.62      0.61    320000\n",
      "weighted avg       0.63      0.62      0.61    320000\n",
      "\n",
      "[[ 80406  79594]\n",
      " [ 42229 117771]]\n"
     ]
    },
    {
     "data": {
      "text/plain": [
       "Text(0.5, 1.0, 'Confusion Matrix')"
      ]
     },
     "execution_count": 20,
     "metadata": {},
     "output_type": "execute_result"
    },
    {
     "data": {
      "image/png": "[encoded data removed]",
      "text/plain": [
       "<Figure size 640x480 with 2 Axes>"
      ]
     },
     "metadata": {},
     "output_type": "display_data"
    }
   ],
   "source": [
    "from nltk.sentiment.vader import SentimentIntensityAnalyzer\n",
    "\n",
    "sid = SentimentIntensityAnalyzer()\n",
    "y_predict=[]\n",
    "for sentence in X_test:\n",
    "    ss = sid.polarity_scores(sentence)\n",
    "    if ss['compound']>0:\n",
    "        y_predict.append(1)\n",
    "    elif ss['compound']==0:\n",
    "        c=random.choice([0,1])\n",
    "        y_predict.append(c)\n",
    "    else:\n",
    "        y_predict.append(0)\n",
    "\n",
    "print(classification_report(y_test, y_predict))\n",
    "cf_matrix=confusion_matrix(y_test, y_predict)\n",
    "print(cf_matrix)\n",
    " \n",
    "categories  = ['Negative','Positive']\n",
    "group_names = ['True Neg','False Pos', 'False Neg','True Pos']\n",
    "group_percentages = ['{0:.2%}'.format(value) for value in cf_matrix.flatten() / np.sum(cf_matrix)]\n",
    "\n",
    "labels = [f'{v1}\\n{v2}' for v1, v2 in zip(group_names,group_percentages)]\n",
    "labels = np.asarray(labels).reshape(2,2)\n",
    "\n",
    "sns.heatmap(cf_matrix, annot = labels, cmap = 'Blues',fmt = '',\n",
    "                xticklabels = categories, yticklabels = categories)\n",
    "\n",
    "plt.xlabel(\"Predicted values\", fontdict = {'size':15}, labelpad = 10)\n",
    "plt.ylabel(\"Actual values\"   , fontdict = {'size':15}, labelpad = 10)\n",
    "plt.title (\"Confusion Matrix\", fontdict = {'size':20}, pad = 20)"
   ]
  },
  {
   "cell_type": "code",
   "execution_count": null,
   "id": "2060a090",
   "metadata": {},
   "outputs": [],
   "source": []
  }
 ],
 "metadata": {
  "kernelspec": {
   "display_name": "Python 3 (ipykernel)",
   "language": "python",
   "name": "python3"
  },
  "language_info": {
   "codemirror_mode": {
    "name": "ipython",
    "version": 3
   },
   "file_extension": ".py",
   "mimetype": "text/x-python",
   "name": "python",
   "nbconvert_exporter": "python",
   "pygments_lexer": "ipython3",
   "version": "3.10.8"
  }
 },
 "nbformat": 4,
 "nbformat_minor": 5
}
