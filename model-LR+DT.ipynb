{
 "cells": [
  {
   "cell_type": "markdown",
   "id": "30f227c4",
   "metadata": {},
   "source": [
    "## CS5344 Project"
   ]
  },
  {
   "cell_type": "markdown",
   "id": "9aef051c",
   "metadata": {},
   "source": [
    "### Data preprocessing"
   ]
  },
  {
   "cell_type": "code",
   "execution_count": 7,
   "id": "e8f39caa",
   "metadata": {},
   "outputs": [],
   "source": [
    "from src.utils import *\n",
    "import numpy as np\n",
    "import pandas as pd\n",
    "import warnings\n",
    "warnings.filterwarnings(\"ignore\")\n",
    "\n",
    "import matplotlib.pyplot as plt\n",
    "import seaborn as sns\n",
    "from sklearn.linear_model import LogisticRegression\n",
    "from sklearn.tree import DecisionTreeClassifier\n",
    "\n",
    "from sklearn.model_selection import train_test_split\n",
    "from sklearn.feature_extraction.text import TfidfVectorizer\n",
    "from sklearn.metrics import confusion_matrix, classification_report"
   ]
  },
  {
   "cell_type": "code",
   "execution_count": 8,
   "id": "632c24fd",
   "metadata": {},
   "outputs": [
    {
     "name": "stdout",
     "output_type": "stream",
     "text": [
      "[0 4]\n",
      "['NO_QUERY']\n",
      "0\n"
     ]
    }
   ],
   "source": [
    "df = pd.read_csv(\"data/training.1600000.processed.noemoticon.csv\", encoding = 'latin', header=None)\n",
    "df.head()\n",
    "\n",
    "df.columns = ['label', 'id', 'date', 'query', 'user', 'text']\n",
    "print(np.unique(df['label']))\n",
    "print(np.unique(df['query']))\n",
    "df = df[['text', 'label']]\n",
    "df['label'][df['label'] == 4] = 1\n",
    "print(np.sum(df.isnull().any(axis=1)))"
   ]
  },
  {
   "cell_type": "markdown",
   "id": "98bcdd02",
   "metadata": {},
   "source": [
    "- Removing Hashtags, Mentions, Hyperlinks\n",
    "- Removeing Non-alphabetic characters\n",
    "- Removing Stopwords\n",
    "- Stemming\n",
    "- Lemmatization"
   ]
  },
  {
   "cell_type": "code",
   "execution_count": 9,
   "id": "b800c1cc",
   "metadata": {},
   "outputs": [
    {
     "name": "stdout",
     "output_type": "stream",
     "text": [
      "CPU times: user 5min 46s, sys: 5.51 s, total: 5min 52s\n",
      "Wall time: 6min 6s\n"
     ]
    }
   ],
   "source": [
    "%%time\n",
    "df = preprocess(df)"
   ]
  },
  {
   "cell_type": "markdown",
   "id": "818c7856",
   "metadata": {},
   "source": [
    "#### Train/Test Split"
   ]
  },
  {
   "cell_type": "code",
   "execution_count": 10,
   "id": "7a42c1d9",
   "metadata": {},
   "outputs": [],
   "source": [
    "X, y = df['text'].to_numpy(), df['label'].to_numpy()\n",
    "X_train, X_test, y_train, y_test = train_test_split(X, y, test_size=0.2, random_state=0)"
   ]
  },
  {
   "cell_type": "markdown",
   "id": "3106e22c",
   "metadata": {},
   "source": [
    "#### TF-IDF Vectorizing"
   ]
  },
  {
   "cell_type": "code",
   "execution_count": 11,
   "id": "ccbf8c83",
   "metadata": {
    "scrolled": true
   },
   "outputs": [
    {
     "name": "stdout",
     "output_type": "stream",
     "text": [
      "CPU times: user 1min 8s, sys: 2.76 s, total: 1min 11s\n",
      "Wall time: 1min 12s\n"
     ]
    }
   ],
   "source": [
    "%%time\n",
    "vectoriser=TfidfVectorizer(ngram_range=(1,2),max_features=50000)\n",
    "vectoriser.fit(X_train)\n",
    "\n",
    "X_train = vectoriser.transform(X_train)\n",
    "X_test  = vectoriser.transform(X_test)"
   ]
  },
  {
   "cell_type": "markdown",
   "id": "8462b009",
   "metadata": {},
   "source": [
    "#### Model Evaluation"
   ]
  },
  {
   "cell_type": "markdown",
   "id": "abef65e4",
   "metadata": {},
   "source": [
    "### Model 1 Logistic Regression"
   ]
  },
  {
   "cell_type": "code",
   "execution_count": 14,
   "id": "a90a1d8b",
   "metadata": {},
   "outputs": [
    {
     "name": "stdout",
     "output_type": "stream",
     "text": [
      "              precision    recall  f1-score   support\n",
      "\n",
      "           0       0.80      0.76      0.78    159815\n",
      "           1       0.77      0.81      0.79    160185\n",
      "\n",
      "    accuracy                           0.79    320000\n",
      "   macro avg       0.79      0.79      0.79    320000\n",
      "weighted avg       0.79      0.79      0.79    320000\n",
      "\n",
      "CPU times: user 1min 7s, sys: 9.75 s, total: 1min 17s\n",
      "Wall time: 16.6 s\n"
     ]
    },
    {
     "data": {
      "image/png": "[encoded data removed]",
      "text/plain": [
       "<Figure size 432x288 with 2 Axes>"
      ]
     },
     "metadata": {
      "needs_background": "light"
     },
     "output_type": "display_data"
    }
   ],
   "source": [
    "%%time\n",
    "model_lr = LogisticRegression()\n",
    "model_lr.fit(X_train, y_train)\n",
    "model_evaluation(model_lr, X_test, y_test)"
   ]
  },
  {
   "cell_type": "markdown",
   "id": "c464ff92",
   "metadata": {},
   "source": [
    "### Model 2 Decision Tree"
   ]
  },
  {
   "cell_type": "code",
   "execution_count": 15,
   "id": "06ba1f22",
   "metadata": {},
   "outputs": [
    {
     "name": "stdout",
     "output_type": "stream",
     "text": [
      "CPU times: user 8min 48s, sys: 1.78 s, total: 8min 50s\n",
      "Wall time: 8min 51s\n"
     ]
    },
    {
     "data": {
      "text/plain": [
       "DecisionTreeClassifier(max_depth=50)"
      ]
     },
     "execution_count": 15,
     "metadata": {},
     "output_type": "execute_result"
    }
   ],
   "source": [
    "%%time\n",
    "model_dtc = DecisionTreeClassifier(max_depth=50)\n",
    "model_dtc.fit(X_train, y_train)\n"
   ]
  },
  {
   "cell_type": "code",
   "execution_count": 16,
   "id": "f4f7459a",
   "metadata": {},
   "outputs": [
    {
     "name": "stdout",
     "output_type": "stream",
     "text": [
      "              precision    recall  f1-score   support\n",
      "\n",
      "           0       0.78      0.49      0.60    159815\n",
      "           1       0.63      0.86      0.73    160185\n",
      "\n",
      "    accuracy                           0.67    320000\n",
      "   macro avg       0.70      0.67      0.66    320000\n",
      "weighted avg       0.70      0.67      0.66    320000\n",
      "\n"
     ]
    },
    {
     "data": {
      "image/png": "[encoded data removed]",
      "text/plain": [
       "<Figure size 432x288 with 2 Axes>"
      ]
     },
     "metadata": {
      "needs_background": "light"
     },
     "output_type": "display_data"
    }
   ],
   "source": [
    "model_evaluation(model_dtc, X_test, y_test)"
   ]
  },
  {
   "cell_type": "code",
   "execution_count": null,
   "id": "6cb1b17b",
   "metadata": {},
   "outputs": [],
   "source": []
  }
 ],
 "metadata": {
  "kernelspec": {
   "display_name": "Python 3 (ipykernel)",
   "language": "python",
   "name": "python3"
  },
  "language_info": {
   "codemirror_mode": {
    "name": "ipython",
    "version": 3
   },
   "file_extension": ".py",
   "mimetype": "text/x-python",
   "name": "python",
   "nbconvert_exporter": "python",
   "pygments_lexer": "ipython3",
   "version": "3.9.12"
  }
 },
 "nbformat": 4,
 "nbformat_minor": 5
}
