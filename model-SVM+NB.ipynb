{
 "cells": [
  {
   "cell_type": "markdown",
   "id": "30f227c4",
   "metadata": {},
   "source": [
    "## CS5344 Project"
   ]
  },
  {
   "cell_type": "markdown",
   "id": "9aef051c",
   "metadata": {},
   "source": [
    "### Data preprocessing"
   ]
  },
  {
   "cell_type": "code",
   "execution_count": 1,
   "id": "e8f39caa",
   "metadata": {},
   "outputs": [
    {
     "name": "stderr",
     "output_type": "stream",
     "text": [
      "[nltk_data] Downloading package stopwords to\n",
      "[nltk_data]     C:\\Users\\11\\AppData\\Roaming\\nltk_data...\n",
      "[nltk_data]   Package stopwords is already up-to-date!\n",
      "[nltk_data] Downloading package wordnet to\n",
      "[nltk_data]     C:\\Users\\11\\AppData\\Roaming\\nltk_data...\n",
      "[nltk_data]   Package wordnet is already up-to-date!\n",
      "[nltk_data] Downloading package omw-1.4 to\n",
      "[nltk_data]     C:\\Users\\11\\AppData\\Roaming\\nltk_data...\n",
      "[nltk_data]   Package omw-1.4 is already up-to-date!\n"
     ]
    }
   ],
   "source": [
    "from src.utils import *\n",
    "import numpy as np\n",
    "import pandas as pd\n",
    "import warnings\n",
    "warnings.filterwarnings(\"ignore\")\n",
    "\n",
    "import matplotlib.pyplot as plt\n",
    "import seaborn as sns\n",
    "from sklearn.svm import LinearSVC\n",
    "from sklearn.naive_bayes import BernoulliNB\n",
    "# from sklearn.neural_network import MLPClassifier\n",
    "\n",
    "from sklearn.model_selection import train_test_split\n",
    "from sklearn.feature_extraction.text import TfidfVectorizer\n",
    "from sklearn.metrics import confusion_matrix, classification_report"
   ]
  },
  {
   "cell_type": "code",
   "execution_count": 2,
   "id": "632c24fd",
   "metadata": {},
   "outputs": [
    {
     "name": "stdout",
     "output_type": "stream",
     "text": [
      "[0 4]\n",
      "['NO_QUERY']\n",
      "0\n"
     ]
    }
   ],
   "source": [
    "df = pd.read_csv(\"data/training.1600000.processed.noemoticon.csv\", encoding = 'latin', header=None)\n",
    "df.head()\n",
    "\n",
    "df.columns = ['label', 'id', 'date', 'query', 'user', 'text']\n",
    "print(np.unique(df['label']))\n",
    "print(np.unique(df['query']))\n",
    "df = df[['text', 'label']]\n",
    "df['label'][df['label'] == 4] = 1\n",
    "print(np.sum(df.isnull().any(axis=1)))"
   ]
  },
  {
   "cell_type": "markdown",
   "id": "98bcdd02",
   "metadata": {},
   "source": [
    "- Removing Hashtags, Mentions, Hyperlinks\n",
    "- Removeing Non-alphabetic characters\n",
    "- Removing Stopwords\n",
    "- Stemming\n",
    "- Lemmatization"
   ]
  },
  {
   "cell_type": "code",
   "execution_count": 3,
   "id": "b800c1cc",
   "metadata": {},
   "outputs": [
    {
     "name": "stdout",
     "output_type": "stream",
     "text": [
      "CPU times: total: 6min 23s\n",
      "Wall time: 6min 28s\n"
     ]
    }
   ],
   "source": [
    "%%time\n",
    "df = preprocess(df)"
   ]
  },
  {
   "cell_type": "markdown",
   "id": "818c7856",
   "metadata": {},
   "source": [
    "#### Train/Test Split"
   ]
  },
  {
   "cell_type": "code",
   "execution_count": 4,
   "id": "7a42c1d9",
   "metadata": {},
   "outputs": [],
   "source": [
    "X, y = df['text'].to_numpy(), df['label'].to_numpy()\n",
    "X_train, X_test, y_train, y_test = train_test_split(X, y, test_size=0.2, random_state=0)"
   ]
  },
  {
   "cell_type": "markdown",
   "id": "3106e22c",
   "metadata": {},
   "source": [
    "#### TF-IDF Vectorizing"
   ]
  },
  {
   "cell_type": "code",
   "execution_count": 5,
   "id": "ccbf8c83",
   "metadata": {},
   "outputs": [
    {
     "name": "stdout",
     "output_type": "stream",
     "text": [
      "CPU times: total: 1min 10s\n",
      "Wall time: 1min 11s\n"
     ]
    }
   ],
   "source": [
    "%%time\n",
    "vectoriser=TfidfVectorizer(ngram_range=(1,2),max_features=50000)\n",
    "vectoriser.fit(X_train)\n",
    "\n",
    "X_train = vectoriser.transform(X_train)\n",
    "X_test  = vectoriser.transform(X_test)"
   ]
  },
  {
   "cell_type": "markdown",
   "id": "8462b009",
   "metadata": {},
   "source": [
    "#### Model Evaluation"
   ]
  },
  {
   "cell_type": "code",
   "execution_count": 6,
   "id": "4cb0283a",
   "metadata": {},
   "outputs": [],
   "source": [
    "def model_evaluation(model):\n",
    "    y_pred = model.predict(X_test)\n",
    "    print(classification_report(y_test, y_pred))\n",
    "    cf_matrix = confusion_matrix(y_test, y_pred)\n",
    "    categories  = ['Negative','Positive']\n",
    "    group_names = ['True Neg','False Pos', 'False Neg','True Pos']\n",
    "    group_percentages = ['{0:.2%}'.format(value) for value in cf_matrix.flatten() / np.sum(cf_matrix)]\n",
    "\n",
    "    labels = [f'{v1}\\n{v2}' for v1, v2 in zip(group_names,group_percentages)]\n",
    "    labels = np.asarray(labels).reshape(2,2)\n",
    "\n",
    "    sns.heatmap(cf_matrix, annot = labels, cmap = 'Blues',fmt = '',xticklabels = categories, yticklabels = categories)\n",
    "\n",
    "    plt.xlabel(\"Predicted values\", fontdict = {'size':15}, labelpad = 10)\n",
    "    plt.ylabel(\"Actual values\"   , fontdict = {'size':15}, labelpad = 10)\n",
    "    plt.title (\"Confusion Matrix\", fontdict = {'size':20}, pad = 20)"
   ]
  },
  {
   "cell_type": "markdown",
   "id": "abef65e4",
   "metadata": {},
   "source": [
    "### Model 1 SVM"
   ]
  },
  {
   "cell_type": "code",
   "execution_count": 7,
   "id": "a90a1d8b",
   "metadata": {},
   "outputs": [
    {
     "name": "stdout",
     "output_type": "stream",
     "text": [
      "              precision    recall  f1-score   support\n",
      "\n",
      "           0       0.80      0.76      0.78    159815\n",
      "           1       0.77      0.81      0.79    160185\n",
      "\n",
      "    accuracy                           0.78    320000\n",
      "   macro avg       0.78      0.78      0.78    320000\n",
      "weighted avg       0.78      0.78      0.78    320000\n",
      "\n",
      "CPU times: total: 37 s\n",
      "Wall time: 39.7 s\n"
     ]
    },
    {
     "data": {
      "image/png": "[encoded data removed]",
      "text/plain": [
       "<Figure size 432x288 with 2 Axes>"
      ]
     },
     "metadata": {
      "needs_background": "light"
     },
     "output_type": "display_data"
    }
   ],
   "source": [
    "%%time\n",
    "model_svm = LinearSVC()\n",
    "model_svm.fit(X_train, y_train)\n",
    "model_evaluation(model_svm)"
   ]
  },
  {
   "cell_type": "markdown",
   "id": "c464ff92",
   "metadata": {},
   "source": [
    "### Model 2 Naive Bayes"
   ]
  },
  {
   "cell_type": "code",
   "execution_count": 8,
   "id": "06ba1f22",
   "metadata": {},
   "outputs": [
    {
     "name": "stdout",
     "output_type": "stream",
     "text": [
      "              precision    recall  f1-score   support\n",
      "\n",
      "           0       0.78      0.74      0.76    159815\n",
      "           1       0.76      0.80      0.78    160185\n",
      "\n",
      "    accuracy                           0.77    320000\n",
      "   macro avg       0.77      0.77      0.77    320000\n",
      "weighted avg       0.77      0.77      0.77    320000\n",
      "\n",
      "CPU times: total: 1.38 s\n",
      "Wall time: 1.45 s\n"
     ]
    },
    {
     "data": {
      "image/png": "[encoded data removed]",
      "text/plain": [
       "<Figure size 432x288 with 2 Axes>"
      ]
     },
     "metadata": {
      "needs_background": "light"
     },
     "output_type": "display_data"
    }
   ],
   "source": [
    "%%time\n",
    "model_nb = BernoulliNB(alpha = 2)\n",
    "model_nb.fit(X_train, y_train)\n",
    "model_evaluation(model_nb)"
   ]
  },
  {
   "cell_type": "markdown",
   "id": "22bfbc2f",
   "metadata": {},
   "source": [
    "### Model 3 "
   ]
  },
  {
   "cell_type": "code",
   "execution_count": 9,
   "id": "bd755c2d",
   "metadata": {},
   "outputs": [
    {
     "name": "stderr",
     "output_type": "stream",
     "text": [
      "UsageError: %%time is a cell magic, but the cell body is empty. Did you mean the line magic %time (single %)?\n"
     ]
    }
   ],
   "source": [
    "# %%time\n"
   ]
  },
  {
   "cell_type": "code",
   "execution_count": null,
   "id": "fd4f2d45",
   "metadata": {},
   "outputs": [],
   "source": []
  }
 ],
 "metadata": {
  "kernelspec": {
   "display_name": "Python 3 (ipykernel)",
   "language": "python",
   "name": "python3"
  },
  "language_info": {
   "codemirror_mode": {
    "name": "ipython",
    "version": 3
   },
   "file_extension": ".py",
   "mimetype": "text/x-python",
   "name": "python",
   "nbconvert_exporter": "python",
   "pygments_lexer": "ipython3",
   "version": "3.10.4"
  }
 },
 "nbformat": 4,
 "nbformat_minor": 5
}
